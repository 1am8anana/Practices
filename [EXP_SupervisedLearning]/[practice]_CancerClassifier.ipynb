{
 "cells": [
  {
   "cell_type": "markdown",
   "metadata": {},
   "source": [
    "### Cancer Classifier\n",
    "\n",
    "In this project, we will be using several Python libraries to make a K-Nearest Neighbor classifier that is trained to predict whether a patient has breast cancer."
   ]
  },
  {
   "cell_type": "markdown",
   "metadata": {},
   "source": [
    "##### Explore the data"
   ]
  },
  {
   "cell_type": "code",
   "execution_count": 2,
   "metadata": {},
   "outputs": [
    {
     "name": "stdout",
     "output_type": "stream",
     "text": [
      "[1.799e+01 1.038e+01 1.228e+02 1.001e+03 1.184e-01 2.776e-01 3.001e-01\n",
      " 1.471e-01 2.419e-01 7.871e-02 1.095e+00 9.053e-01 8.589e+00 1.534e+02\n",
      " 6.399e-03 4.904e-02 5.373e-02 1.587e-02 3.003e-02 6.193e-03 2.538e+01\n",
      " 1.733e+01 1.846e+02 2.019e+03 1.622e-01 6.656e-01 7.119e-01 2.654e-01\n",
      " 4.601e-01 1.189e-01]\n",
      "['mean radius' 'mean texture' 'mean perimeter' 'mean area'\n",
      " 'mean smoothness' 'mean compactness' 'mean concavity'\n",
      " 'mean concave points' 'mean symmetry' 'mean fractal dimension'\n",
      " 'radius error' 'texture error' 'perimeter error' 'area error'\n",
      " 'smoothness error' 'compactness error' 'concavity error'\n",
      " 'concave points error' 'symmetry error' 'fractal dimension error'\n",
      " 'worst radius' 'worst texture' 'worst perimeter' 'worst area'\n",
      " 'worst smoothness' 'worst compactness' 'worst concavity'\n",
      " 'worst concave points' 'worst symmetry' 'worst fractal dimension']\n",
      "[0 0 0 0 0 0 0 0 0 0 0 0 0 0 0 0 0 0 0 1 1 1 0 0 0 0 0 0 0 0 0 0 0 0 0 0 0\n",
      " 1 0 0 0 0 0 0 0 0 1 0 1 1 1 1 1 0 0 1 0 0 1 1 1 1 0 1 0 0 1 1 1 1 0 1 0 0\n",
      " 1 0 1 0 0 1 1 1 0 0 1 0 0 0 1 1 1 0 1 1 0 0 1 1 1 0 0 1 1 1 1 0 1 1 0 1 1\n",
      " 1 1 1 1 1 1 0 0 0 1 0 0 1 1 1 0 0 1 0 1 0 0 1 0 0 1 1 0 1 1 0 1 1 1 1 0 1\n",
      " 1 1 1 1 1 1 1 1 0 1 1 1 1 0 0 1 0 1 1 0 0 1 1 0 0 1 1 1 1 0 1 1 0 0 0 1 0\n",
      " 1 0 1 1 1 0 1 1 0 0 1 0 0 0 0 1 0 0 0 1 0 1 0 1 1 0 1 0 0 0 0 1 1 0 0 1 1\n",
      " 1 0 1 1 1 1 1 0 0 1 1 0 1 1 0 0 1 0 1 1 1 1 0 1 1 1 1 1 0 1 0 0 0 0 0 0 0\n",
      " 0 0 0 0 0 0 0 1 1 1 1 1 1 0 1 0 1 1 0 1 1 0 1 0 0 1 1 1 1 1 1 1 1 1 1 1 1\n",
      " 1 0 1 1 0 1 0 1 1 1 1 1 1 1 1 1 1 1 1 1 1 0 1 1 1 0 1 0 1 1 1 1 0 0 0 1 1\n",
      " 1 1 0 1 0 1 0 1 1 1 0 1 1 1 1 1 1 1 0 0 0 1 1 1 1 1 1 1 1 1 1 1 0 0 1 0 0\n",
      " 0 1 0 0 1 1 1 1 1 0 1 1 1 1 1 0 1 1 1 0 1 1 0 0 1 1 1 1 1 1 0 1 1 1 1 1 1\n",
      " 1 0 1 1 1 1 1 0 1 1 0 1 1 1 1 1 1 1 1 1 1 1 1 0 1 0 0 1 0 1 1 1 1 1 0 1 1\n",
      " 0 1 0 1 1 0 1 0 1 1 1 1 1 1 1 1 0 0 1 1 1 1 1 1 0 1 1 1 1 1 1 1 1 1 1 0 1\n",
      " 1 1 1 1 1 1 0 1 0 1 1 0 1 1 1 1 1 0 0 1 0 1 0 1 1 1 1 1 0 1 1 0 1 0 1 0 0\n",
      " 1 1 1 0 1 1 1 1 1 1 1 1 1 1 1 0 1 0 0 1 1 1 1 1 1 1 1 1 1 1 1 1 1 1 1 1 1\n",
      " 1 1 1 1 1 1 1 0 0 0 0 0 0 1]\n",
      "['malignant' 'benign']\n"
     ]
    }
   ],
   "source": [
    "# Explore the data\n",
    "# load the dataset from sklearn\n",
    "from sklearn.datasets import load_breast_cancer\n",
    "# load the dataset into a variable\n",
    "breast_cancer_data = load_breast_cancer()\n",
    "# look at the first datapoint\n",
    "print(breast_cancer_data.data[0])\n",
    "# represent the data\n",
    "print(breast_cancer_data.feature_names)\n",
    "# look at the target\n",
    "print(breast_cancer_data.target)\n",
    "print(breast_cancer_data.target_names)"
   ]
  },
  {
   "cell_type": "markdown",
   "metadata": {},
   "source": [
    "##### Splitting the data into Training and Validation Sets"
   ]
  },
  {
   "cell_type": "code",
   "execution_count": 3,
   "metadata": {},
   "outputs": [
    {
     "name": "stdout",
     "output_type": "stream",
     "text": [
      "455\n",
      "455\n"
     ]
    }
   ],
   "source": [
    "# Splitting the data into Training and Validation Sets\n",
    "# import split data lib\n",
    "from sklearn.model_selection import train_test_split\n",
    "# split the data\n",
    "training_data, validation_data, training_labels, validation_labels = train_test_split(breast_cancer_data.data, breast_cancer_data.target, test_size = 0.2, random_state = 100)\n",
    "# print out length to confirm that worked correctly\n",
    "# they should be the same size\n",
    "print(len(training_data))\n",
    "print(len(training_labels))"
   ]
  },
  {
   "cell_type": "markdown",
   "metadata": {},
   "source": [
    "##### Running the classifier"
   ]
  },
  {
   "cell_type": "code",
   "execution_count": 4,
   "metadata": {},
   "outputs": [
    {
     "name": "stdout",
     "output_type": "stream",
     "text": [
      "model score: 0.9473684210526315\n",
      "model score with k = 1: 0.9298245614035088\n",
      "model score with k = 2: 0.9385964912280702\n",
      "model score with k = 3: 0.9473684210526315\n",
      "model score with k = 4: 0.9473684210526315\n",
      "model score with k = 5: 0.9473684210526315\n",
      "model score with k = 6: 0.9473684210526315\n",
      "model score with k = 7: 0.9473684210526315\n",
      "model score with k = 8: 0.9473684210526315\n",
      "model score with k = 9: 0.956140350877193\n",
      "model score with k = 10: 0.956140350877193\n",
      "model score with k = 11: 0.956140350877193\n",
      "model score with k = 12: 0.956140350877193\n",
      "model score with k = 13: 0.956140350877193\n",
      "model score with k = 14: 0.956140350877193\n",
      "model score with k = 15: 0.956140350877193\n",
      "model score with k = 16: 0.956140350877193\n",
      "model score with k = 17: 0.956140350877193\n",
      "model score with k = 18: 0.956140350877193\n",
      "model score with k = 19: 0.956140350877193\n",
      "model score with k = 20: 0.956140350877193\n",
      "model score with k = 21: 0.956140350877193\n",
      "model score with k = 22: 0.956140350877193\n",
      "model score with k = 23: 0.9649122807017544\n",
      "model score with k = 24: 0.9649122807017544\n",
      "model score with k = 25: 0.956140350877193\n",
      "model score with k = 26: 0.956140350877193\n",
      "model score with k = 27: 0.956140350877193\n",
      "model score with k = 28: 0.956140350877193\n",
      "model score with k = 29: 0.9473684210526315\n",
      "model score with k = 30: 0.9473684210526315\n",
      "model score with k = 31: 0.9473684210526315\n",
      "model score with k = 32: 0.9473684210526315\n",
      "model score with k = 33: 0.9473684210526315\n",
      "model score with k = 34: 0.9473684210526315\n",
      "model score with k = 35: 0.9473684210526315\n",
      "model score with k = 36: 0.9473684210526315\n",
      "model score with k = 37: 0.956140350877193\n",
      "model score with k = 38: 0.956140350877193\n",
      "model score with k = 39: 0.956140350877193\n",
      "model score with k = 40: 0.956140350877193\n",
      "model score with k = 41: 0.956140350877193\n",
      "model score with k = 42: 0.956140350877193\n",
      "model score with k = 43: 0.956140350877193\n",
      "model score with k = 44: 0.9473684210526315\n",
      "model score with k = 45: 0.956140350877193\n",
      "model score with k = 46: 0.9473684210526315\n",
      "model score with k = 47: 0.956140350877193\n",
      "model score with k = 48: 0.956140350877193\n",
      "model score with k = 49: 0.956140350877193\n",
      "model score with k = 50: 0.956140350877193\n",
      "model score with k = 51: 0.9473684210526315\n",
      "model score with k = 52: 0.9473684210526315\n",
      "model score with k = 53: 0.9473684210526315\n",
      "model score with k = 54: 0.956140350877193\n",
      "model score with k = 55: 0.956140350877193\n",
      "model score with k = 56: 0.9649122807017544\n",
      "model score with k = 57: 0.9473684210526315\n",
      "model score with k = 58: 0.9473684210526315\n",
      "model score with k = 59: 0.9385964912280702\n",
      "model score with k = 60: 0.9298245614035088\n",
      "model score with k = 61: 0.9298245614035088\n",
      "model score with k = 62: 0.9385964912280702\n",
      "model score with k = 63: 0.9473684210526315\n",
      "model score with k = 64: 0.9385964912280702\n",
      "model score with k = 65: 0.9385964912280702\n",
      "model score with k = 66: 0.9385964912280702\n",
      "model score with k = 67: 0.9385964912280702\n",
      "model score with k = 68: 0.9385964912280702\n",
      "model score with k = 69: 0.9385964912280702\n",
      "model score with k = 70: 0.9385964912280702\n",
      "model score with k = 71: 0.9385964912280702\n",
      "model score with k = 72: 0.9385964912280702\n",
      "model score with k = 73: 0.9385964912280702\n",
      "model score with k = 74: 0.9385964912280702\n",
      "model score with k = 75: 0.9385964912280702\n",
      "model score with k = 76: 0.9385964912280702\n",
      "model score with k = 77: 0.9298245614035088\n",
      "model score with k = 78: 0.9298245614035088\n",
      "model score with k = 79: 0.9298245614035088\n",
      "model score with k = 80: 0.9298245614035088\n",
      "model score with k = 81: 0.9210526315789473\n",
      "model score with k = 82: 0.9298245614035088\n",
      "model score with k = 83: 0.9210526315789473\n",
      "model score with k = 84: 0.9385964912280702\n",
      "model score with k = 85: 0.9298245614035088\n",
      "model score with k = 86: 0.9385964912280702\n",
      "model score with k = 87: 0.9385964912280702\n",
      "model score with k = 88: 0.9385964912280702\n",
      "model score with k = 89: 0.9298245614035088\n",
      "model score with k = 90: 0.9298245614035088\n",
      "model score with k = 91: 0.9210526315789473\n",
      "model score with k = 92: 0.9385964912280702\n",
      "model score with k = 93: 0.9210526315789473\n",
      "model score with k = 94: 0.9298245614035088\n",
      "model score with k = 95: 0.9298245614035088\n",
      "model score with k = 96: 0.9385964912280702\n",
      "model score with k = 97: 0.9298245614035088\n",
      "model score with k = 98: 0.9385964912280702\n",
      "model score with k = 99: 0.9298245614035088\n"
     ]
    }
   ],
   "source": [
    "# Running the classifier\n",
    "# import KNN classifier from sklearn\n",
    "from sklearn.neighbors import KNeighborsClassifier\n",
    "# create KNN classifier object with k = 3\n",
    "classifier = KNeighborsClassifier(n_neighbors = 3)\n",
    "# training my classifier(model)\n",
    "classifier.fit(training_data, training_labels)\n",
    "# find how accurate on validation-set\n",
    "model_score = classifier.score(validation_data, validation_labels)\n",
    "print(f\"model score: {model_score}\")\n",
    "# find the better K\n",
    "for k in range(1, 100):\n",
    "  # create KNN classifier object with k in loop\n",
    "  classifier = KNeighborsClassifier(n_neighbors = k)\n",
    "  # training my classifier(model)\n",
    "  classifier.fit(training_data, training_labels)\n",
    "  # find how accurate on validation-set\n",
    "  model_score = classifier.score(validation_data, validation_labels)\n",
    "  print(f\"model score with k = {k}: {model_score}\")\n",
    "  # found k = 23 and 56 are both best: 0.96"
   ]
  }
 ],
 "metadata": {
  "kernelspec": {
   "display_name": "base",
   "language": "python",
   "name": "python3"
  },
  "language_info": {
   "codemirror_mode": {
    "name": "ipython",
    "version": 3
   },
   "file_extension": ".py",
   "mimetype": "text/x-python",
   "name": "python",
   "nbconvert_exporter": "python",
   "pygments_lexer": "ipython3",
   "version": "3.11.4"
  }
 },
 "nbformat": 4,
 "nbformat_minor": 2
}
