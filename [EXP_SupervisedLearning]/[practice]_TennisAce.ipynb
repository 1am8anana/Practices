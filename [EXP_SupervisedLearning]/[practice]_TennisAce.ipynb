{
 "cells": [
  {
   "cell_type": "markdown",
   "metadata": {},
   "source": [
    "# Tennis Ace\n",
    "\n",
    "### Overview\n",
    "\n",
    "This project contains a series of open-ended requirements which describe the project you’ll be building. There are many possible ways to correctly fulfill all of these requirements, and you should expect to use the internet, and other resources when you encounter a problem.\n",
    "\n",
    "### Project Goals\n",
    "\n",
    "You will create a linear regression model that predicts the outcome for a tennis player based on their playing habits. By analyzing and modeling the Association of Tennis Professionals (ATP) data, you will determine what it takes to be one of the best tennis players in the world."
   ]
  },
  {
   "cell_type": "markdown",
   "metadata": {},
   "source": [
    "#### Project Requirements\n",
    "\n",
    "1. “Game, Set, Match!”\n",
    "\n",
    "No three words are sweeter to hear as a tennis player than those, which indicate that a player has beaten their opponent. While you can head down to your nearest court and aim to overcome your challenger across the net without much practice, a league of professionals spends day and night, month after month practicing to be among the best in the world. Today you will put your linear regression knowledge to the test to better understand what it takes to be an all-star tennis player.\n",
    "\n",
    "Provided in tennis_stats.csv is data from the men’s professional tennis league, which is called the ATP (Association of Tennis Professionals). Data from the top 1500 ranked players in the ATP over the span of 2009 to 2017 are provided in file. The statistics recorded for each player in each year include service game (offensive) statistics, return game (defensive) statistics and outcomes. Load the csv into a DataFrame and investigate it to gain familiarity with the data."
   ]
  },
  {
   "cell_type": "code",
   "execution_count": 2,
   "metadata": {},
   "outputs": [],
   "source": [
    "# import lib\n",
    "import pandas as pd\n",
    "import matplotlib.pyplot as plt\n",
    "# sklearn lib\n",
    "from sklearn.model_selection import train_test_split\n",
    "from sklearn.linear_model import LinearRegression "
   ]
  },
  {
   "cell_type": "code",
   "execution_count": 3,
   "metadata": {},
   "outputs": [
    {
     "name": "stdout",
     "output_type": "stream",
     "text": [
      "<class 'pandas.core.frame.DataFrame'>\n",
      "RangeIndex: 1721 entries, 0 to 1720\n",
      "Data columns (total 24 columns):\n",
      " #   Column                      Non-Null Count  Dtype  \n",
      "---  ------                      --------------  -----  \n",
      " 0   Player                      1721 non-null   object \n",
      " 1   Year                        1721 non-null   int64  \n",
      " 2   FirstServe                  1721 non-null   float64\n",
      " 3   FirstServePointsWon         1721 non-null   float64\n",
      " 4   FirstServeReturnPointsWon   1721 non-null   float64\n",
      " 5   SecondServePointsWon        1721 non-null   float64\n",
      " 6   SecondServeReturnPointsWon  1721 non-null   float64\n",
      " 7   Aces                        1721 non-null   int64  \n",
      " 8   BreakPointsConverted        1721 non-null   float64\n",
      " 9   BreakPointsFaced            1721 non-null   int64  \n",
      " 10  BreakPointsOpportunities    1721 non-null   int64  \n",
      " 11  BreakPointsSaved            1721 non-null   float64\n",
      " 12  DoubleFaults                1721 non-null   int64  \n",
      " 13  ReturnGamesPlayed           1721 non-null   int64  \n",
      " 14  ReturnGamesWon              1721 non-null   float64\n",
      " 15  ReturnPointsWon             1721 non-null   float64\n",
      " 16  ServiceGamesPlayed          1721 non-null   int64  \n",
      " 17  ServiceGamesWon             1721 non-null   float64\n",
      " 18  TotalPointsWon              1721 non-null   float64\n",
      " 19  TotalServicePointsWon       1721 non-null   float64\n",
      " 20  Wins                        1721 non-null   int64  \n",
      " 21  Losses                      1721 non-null   int64  \n",
      " 22  Winnings                    1721 non-null   int64  \n",
      " 23  Ranking                     1721 non-null   int64  \n",
      "dtypes: float64(12), int64(11), object(1)\n",
      "memory usage: 322.8+ KB\n",
      "None\n"
     ]
    }
   ],
   "source": [
    "# load and investigate the data\n",
    "df = pd.read_csv(\"tennis_stats.csv\")\n",
    "\n",
    "print(df.info())"
   ]
  }
 ],
 "metadata": {
  "kernelspec": {
   "display_name": "base",
   "language": "python",
   "name": "python3"
  },
  "language_info": {
   "codemirror_mode": {
    "name": "ipython",
    "version": 3
   },
   "file_extension": ".py",
   "mimetype": "text/x-python",
   "name": "python",
   "nbconvert_exporter": "python",
   "pygments_lexer": "ipython3",
   "version": "3.11.4"
  }
 },
 "nbformat": 4,
 "nbformat_minor": 2
}
