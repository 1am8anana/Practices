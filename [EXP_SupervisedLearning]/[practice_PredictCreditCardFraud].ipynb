{
 "cells": [
  {
   "cell_type": "markdown",
   "metadata": {},
   "source": [
    "### Predict Credit Card Fraud\n",
    "\n",
    "Credit card fraud is one of the leading causes of identify theft around the world. In 2018 alone, over $24 billion were stolen through fraudulent credit card transactions. Financial institutions employ a wide variety of different techniques to prevent fraud, one of the most common being Logistic Regression."
   ]
  },
  {
   "cell_type": "code",
   "execution_count": 1,
   "metadata": {},
   "outputs": [],
   "source": [
    "# import lib\n",
    "import pandas as pd\n",
    "import numpy as np\n",
    "from sklearn.linear_model import LogisticRegression\n",
    "from sklearn.model_selection import train_test_split\n",
    "from sklearn.preprocessing import StandardScaler"
   ]
  },
  {
   "cell_type": "markdown",
   "metadata": {},
   "source": [
    "Let’s begin by loading the data into a pandas DataFrame named transactions. Take a peek at the dataset using .head() and use .info() to examine how many rows are there and what datatypes the are.\n",
    "* How many transactions are fraudulent?"
   ]
  },
  {
   "cell_type": "code",
   "execution_count": 2,
   "metadata": {},
   "outputs": [
    {
     "name": "stdout",
     "output_type": "stream",
     "text": [
      "transactions data:    step      type      amount     nameOrig  oldbalanceOrg  newbalanceOrig  \\\n",
      "0   206  CASH_OUT    62927.08   C473782114           0.00            0.00   \n",
      "1   380   PAYMENT    32851.57  C1915112886           0.00            0.00   \n",
      "2   570  CASH_OUT  1131750.38  C1396198422     1131750.38            0.00   \n",
      "3   184  CASH_OUT    60519.74   C982551468       60519.74            0.00   \n",
      "4   162   CASH_IN    46716.01  C1759889425     7668050.60      7714766.61   \n",
      "\n",
      "      nameDest  oldbalanceDest  newbalanceDest  isFraud  isPayment  \\\n",
      "0  C2096898696       649420.67       712347.75        0          0   \n",
      "1   M916879292            0.00            0.00        0          1   \n",
      "2  C1612235515       313070.53      1444820.92        1          0   \n",
      "3  C1378644910        54295.32       182654.50        1          0   \n",
      "4  C2059152908      2125468.75      2078752.75        0          0   \n",
      "\n",
      "   isMovement  accountDiff  \n",
      "0           1    649420.67  \n",
      "1           0         0.00  \n",
      "2           1    818679.85  \n",
      "3           1      6224.42  \n",
      "4           0   5542581.85  \n",
      "<class 'pandas.core.frame.DataFrame'>\n",
      "RangeIndex: 1000 entries, 0 to 999\n",
      "Data columns (total 13 columns):\n",
      " #   Column          Non-Null Count  Dtype  \n",
      "---  ------          --------------  -----  \n",
      " 0   step            1000 non-null   int64  \n",
      " 1   type            1000 non-null   object \n",
      " 2   amount          1000 non-null   float64\n",
      " 3   nameOrig        1000 non-null   object \n",
      " 4   oldbalanceOrg   1000 non-null   float64\n",
      " 5   newbalanceOrig  1000 non-null   float64\n",
      " 6   nameDest        1000 non-null   object \n",
      " 7   oldbalanceDest  1000 non-null   float64\n",
      " 8   newbalanceDest  1000 non-null   float64\n",
      " 9   isFraud         1000 non-null   int64  \n",
      " 10  isPayment       1000 non-null   int64  \n",
      " 11  isMovement      1000 non-null   int64  \n",
      " 12  accountDiff     1000 non-null   float64\n",
      "dtypes: float64(6), int64(4), object(3)\n",
      "memory usage: 101.7+ KB\n",
      "None\n"
     ]
    }
   ],
   "source": [
    "# load the data\n",
    "data = pd.read_csv('transactions_modified.csv')\n",
    "print(f\"transactions data: {data.head(5)}\")\n",
    "print(data.info())"
   ]
  },
  {
   "cell_type": "code",
   "execution_count": 4,
   "metadata": {},
   "outputs": [
    {
     "name": "stdout",
     "output_type": "stream",
     "text": [
      "fraudulent transactions: 282\n"
     ]
    }
   ],
   "source": [
    "# How many fraudulent transactions?\n",
    "print(f\"fraudulent transactions: {(data['isFraud'] == 1).sum()}\")"
   ]
  }
 ],
 "metadata": {
  "kernelspec": {
   "display_name": "base",
   "language": "python",
   "name": "python3"
  },
  "language_info": {
   "codemirror_mode": {
    "name": "ipython",
    "version": 3
   },
   "file_extension": ".py",
   "mimetype": "text/x-python",
   "name": "python",
   "nbconvert_exporter": "python",
   "pygments_lexer": "ipython3",
   "version": "3.11.4"
  }
 },
 "nbformat": 4,
 "nbformat_minor": 2
}
