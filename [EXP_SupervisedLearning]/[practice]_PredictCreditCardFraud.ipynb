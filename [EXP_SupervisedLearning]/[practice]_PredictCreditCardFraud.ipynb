{
 "cells": [
  {
   "cell_type": "markdown",
   "metadata": {},
   "source": [
    "### Predict Credit Card Fraud\n",
    "\n",
    "Credit card fraud is one of the leading causes of identify theft around the world. In 2018 alone, over $24 billion were stolen through fraudulent credit card transactions. Financial institutions employ a wide variety of different techniques to prevent fraud, one of the most common being Logistic Regression."
   ]
  },
  {
   "cell_type": "code",
   "execution_count": 3,
   "metadata": {},
   "outputs": [],
   "source": [
    "# import lib\n",
    "import pandas as pd\n",
    "import numpy as np\n",
    "from sklearn.linear_model import LogisticRegression\n",
    "from sklearn.model_selection import train_test_split\n",
    "from sklearn.preprocessing import StandardScaler"
   ]
  },
  {
   "cell_type": "markdown",
   "metadata": {},
   "source": [
    "Let’s begin by loading the data into a pandas DataFrame named transactions. Take a peek at the dataset using .head() and use .info() to examine how many rows are there and what datatypes the are.\n",
    "* How many transactions are fraudulent?"
   ]
  },
  {
   "cell_type": "code",
   "execution_count": 5,
   "metadata": {},
   "outputs": [
    {
     "name": "stdout",
     "output_type": "stream",
     "text": [
      "transactions data:    step      type      amount     nameOrig  oldbalanceOrg  newbalanceOrig  \\\n",
      "0   206  CASH_OUT    62927.08   C473782114           0.00            0.00   \n",
      "1   380   PAYMENT    32851.57  C1915112886           0.00            0.00   \n",
      "2   570  CASH_OUT  1131750.38  C1396198422     1131750.38            0.00   \n",
      "3   184  CASH_OUT    60519.74   C982551468       60519.74            0.00   \n",
      "4   162   CASH_IN    46716.01  C1759889425     7668050.60      7714766.61   \n",
      "\n",
      "      nameDest  oldbalanceDest  newbalanceDest  isFraud  isPayment  \\\n",
      "0  C2096898696       649420.67       712347.75        0          0   \n",
      "1   M916879292            0.00            0.00        0          1   \n",
      "2  C1612235515       313070.53      1444820.92        1          0   \n",
      "3  C1378644910        54295.32       182654.50        1          0   \n",
      "4  C2059152908      2125468.75      2078752.75        0          0   \n",
      "\n",
      "   isMovement  accountDiff  \n",
      "0           1    649420.67  \n",
      "1           0         0.00  \n",
      "2           1    818679.85  \n",
      "3           1      6224.42  \n",
      "4           0   5542581.85  \n",
      "<class 'pandas.core.frame.DataFrame'>\n",
      "RangeIndex: 1000 entries, 0 to 999\n",
      "Data columns (total 13 columns):\n",
      " #   Column          Non-Null Count  Dtype  \n",
      "---  ------          --------------  -----  \n",
      " 0   step            1000 non-null   int64  \n",
      " 1   type            1000 non-null   object \n",
      " 2   amount          1000 non-null   float64\n",
      " 3   nameOrig        1000 non-null   object \n",
      " 4   oldbalanceOrg   1000 non-null   float64\n",
      " 5   newbalanceOrig  1000 non-null   float64\n",
      " 6   nameDest        1000 non-null   object \n",
      " 7   oldbalanceDest  1000 non-null   float64\n",
      " 8   newbalanceDest  1000 non-null   float64\n",
      " 9   isFraud         1000 non-null   int64  \n",
      " 10  isPayment       1000 non-null   int64  \n",
      " 11  isMovement      1000 non-null   int64  \n",
      " 12  accountDiff     1000 non-null   float64\n",
      "dtypes: float64(6), int64(4), object(3)\n",
      "memory usage: 101.7+ KB\n",
      "None\n"
     ]
    }
   ],
   "source": [
    "# load the data\n",
    "data = pd.read_csv('transactions_modified.csv')\n",
    "print(f\"transactions data: {data.head(5)}\")\n",
    "print(data.info())"
   ]
  },
  {
   "cell_type": "code",
   "execution_count": 6,
   "metadata": {},
   "outputs": [
    {
     "name": "stdout",
     "output_type": "stream",
     "text": [
      "fraudulent transactions: 282\n"
     ]
    }
   ],
   "source": [
    "# How many fraudulent transactions?\n",
    "print(f\"fraudulent transactions: {(data['isFraud'] == 1).sum()}\")"
   ]
  },
  {
   "cell_type": "markdown",
   "metadata": {},
   "source": [
    "#### Clean the Data\n",
    "\n",
    "we can see that there are a few interesting columns to look at. We know that the amount of a given transaction is going to be important. Calculate summary statistics for this column.\n",
    "* What does the distribution look like?"
   ]
  },
  {
   "cell_type": "code",
   "execution_count": 7,
   "metadata": {},
   "outputs": [
    {
     "name": "stdout",
     "output_type": "stream",
     "text": [
      "Summary statistics on amount column: count    1.000000e+03\n",
      "mean     5.373080e+05\n",
      "std      1.423692e+06\n",
      "min      0.000000e+00\n",
      "25%      2.933705e+04\n",
      "50%      1.265305e+05\n",
      "75%      3.010378e+05\n",
      "max      1.000000e+07\n",
      "Name: amount, dtype: float64\n"
     ]
    }
   ],
   "source": [
    "# Summary statistics on amount column\n",
    "print(f\"Summary statistics on amount column: {data['amount'].describe()}\")"
   ]
  },
  {
   "cell_type": "markdown",
   "metadata": {},
   "source": [
    "Let’s create a new column called isPayment that assigns a 1 when type is “PAYMENT” or “DEBIT”, and a 0 otherwise."
   ]
  },
  {
   "cell_type": "code",
   "execution_count": 8,
   "metadata": {},
   "outputs": [],
   "source": [
    "# Create isPayment field\n",
    "data['isPayment'] = data['type'].apply(lambda x: 1 if x in ['PAYMENT', 'DEBIT'] else 0)"
   ]
  },
  {
   "cell_type": "markdown",
   "metadata": {},
   "source": [
    "create a column called isMovement, which will capture if money moved out of the origin account. This column will have a value of 1 when type is either “CASH_OUT” or “TRANSFER”, and a 0 otherwise."
   ]
  },
  {
   "cell_type": "code",
   "execution_count": 9,
   "metadata": {},
   "outputs": [],
   "source": [
    "# Create isMovement field\n",
    "data['isMovement'] = data['type'].apply(lambda x: 1 if x in ['CASH_OUT', 'TRANSFER'] else 0)"
   ]
  },
  {
   "cell_type": "markdown",
   "metadata": {},
   "source": [
    "With financial fraud, another key factor to investigate would be the difference in value between the origin and destination account. Our theory, in this case, being that destination accounts with a significantly different value could be suspect of fraud.\n",
    "\n",
    "Let’s create a column called accountDiff with the absolute difference of the oldbalanceOrg and oldbalanceDest columns."
   ]
  },
  {
   "cell_type": "code",
   "execution_count": 10,
   "metadata": {},
   "outputs": [],
   "source": [
    "# Create accountDiff field\n",
    "data['accountDiff'] = data['oldbalanceOrg'] - data['oldbalanceDest']"
   ]
  },
  {
   "cell_type": "markdown",
   "metadata": {},
   "source": [
    "#### Select and Split the Data\n",
    "\n",
    "Before we can start training our model, we need to define our features and label columns. Our label column in this dataset is the isFraud field. Create a variable called features which will be an array consisting of the following fields:\n",
    "* amount\n",
    "* isPayment\n",
    "* isMovement\n",
    "* accountDiff\n",
    "\n",
    "Also create a variable called label with the column isFraud."
   ]
  },
  {
   "cell_type": "code",
   "execution_count": 11,
   "metadata": {},
   "outputs": [
    {
     "name": "stdout",
     "output_type": "stream",
     "text": [
      "       amount  isPayment  isMovement  accountDiff\n",
      "0    62927.08          0           1   -649420.67\n",
      "1    32851.57          1           0         0.00\n",
      "2  1131750.38          0           1    818679.85\n",
      "3    60519.74          0           1      6224.42\n",
      "4    46716.01          0           0   5542581.85\n",
      "   isFraud\n",
      "0        0\n",
      "1        0\n",
      "2        1\n",
      "3        1\n",
      "4        0\n"
     ]
    }
   ],
   "source": [
    "# Create features and label variables\n",
    "features = data[['amount', 'isPayment', 'isMovement', 'accountDiff']]\n",
    "label = data[['isFraud']]\n",
    "print(features.head())\n",
    "print(label.head())"
   ]
  },
  {
   "cell_type": "markdown",
   "metadata": {},
   "source": [
    "Split the data into training and test sets using sklearn‘s train_test_split() method. We’ll use the training set to train the model and the test set to evaluate the model. Use a test_size value of 0.3."
   ]
  },
  {
   "cell_type": "code",
   "execution_count": 12,
   "metadata": {},
   "outputs": [],
   "source": [
    "# Split dataset\n",
    "x_train, x_test, y_train, y_test = train_test_split(features, label, test_size = 0.3)"
   ]
  },
  {
   "cell_type": "markdown",
   "metadata": {},
   "source": [
    "#### Normalize the Data\n",
    "\n",
    "\n",
    "Since sklearn‘s Logistic Regression implementation uses Regularization, we need to scale our feature data. Create a StandardScaler object, .fit_transform() it on the training features, and .transform() the test features."
   ]
  },
  {
   "cell_type": "code",
   "execution_count": 13,
   "metadata": {},
   "outputs": [],
   "source": [
    "# Normalize the features variables\n",
    "scaler = StandardScaler()\n",
    "x_train_scaled = scaler.fit_transform(x_train)\n",
    "x_test_scaled = scaler.transform(x_test)"
   ]
  },
  {
   "cell_type": "markdown",
   "metadata": {},
   "source": [
    "#### Create and Evaluate the Model\n",
    "\n",
    "Create a LogisticRegression model with sklearn and .fit() it on the training data.\n",
    "\n",
    "Fitting the model find the best coefficients for our selected features so it can more accurately predict our label. We will start with the default threshold of 0.5."
   ]
  },
  {
   "cell_type": "code",
   "execution_count": 14,
   "metadata": {},
   "outputs": [
    {
     "name": "stderr",
     "output_type": "stream",
     "text": [
      "c:\\Users\\tarza\\anaconda3\\Lib\\site-packages\\sklearn\\utils\\validation.py:1184: DataConversionWarning: A column-vector y was passed when a 1d array was expected. Please change the shape of y to (n_samples, ), for example using ravel().\n",
      "  y = column_or_1d(y, warn=True)\n"
     ]
    }
   ],
   "source": [
    "# Fit the model to the training data\n",
    "model = LogisticRegression()\n",
    "model.fit(x_train_scaled, y_train)\n",
    "best_coef = model.coef_"
   ]
  },
  {
   "cell_type": "markdown",
   "metadata": {},
   "source": [
    "Scoring the model on the training data will process the training data through the trained model and will predict which transactions are fraudulent. The score returned is the percentage of correct classifications, or the accuracy."
   ]
  },
  {
   "cell_type": "code",
   "execution_count": 15,
   "metadata": {},
   "outputs": [
    {
     "name": "stdout",
     "output_type": "stream",
     "text": [
      "model train score: 0.8585714285714285\n"
     ]
    }
   ],
   "source": [
    "# Score the model on the training data\n",
    "model_train_score = model.score(x_train_scaled, y_train)\n",
    "print(f\"model train score: {model_train_score}\")"
   ]
  },
  {
   "cell_type": "markdown",
   "metadata": {},
   "source": [
    "Scoring the model on the test data will process the test data through the trained model and will predict which transactions are fraudulent. The score returned is the percentage of correct classifications, or the accuracy, and will be an indicator for the sucess of your model.\n",
    "* How did your model perform?"
   ]
  },
  {
   "cell_type": "code",
   "execution_count": 16,
   "metadata": {},
   "outputs": [
    {
     "name": "stdout",
     "output_type": "stream",
     "text": [
      "model test score: 0.8366666666666667\n"
     ]
    }
   ],
   "source": [
    "# Score the model on the test data\n",
    "model_test_score = model.score(x_test_scaled, y_test)\n",
    "print(f\"model test score: {model_test_score}\")"
   ]
  },
  {
   "cell_type": "markdown",
   "metadata": {},
   "source": [
    "Print the coefficients for our model to see how important each feature column was for prediction.\n",
    "* Which feature was most important?\n",
    "* Least important?"
   ]
  },
  {
   "cell_type": "code",
   "execution_count": 17,
   "metadata": {},
   "outputs": [
    {
     "name": "stdout",
     "output_type": "stream",
     "text": [
      "best coef: [[ 2.18216988 -0.2753109   2.87298167  1.18993799]]\n"
     ]
    }
   ],
   "source": [
    "# Print the model coefficients\n",
    "print(f\"best coef: {best_coef}\")"
   ]
  },
  {
   "cell_type": "markdown",
   "metadata": {},
   "source": [
    "#### Predict with the Model\n",
    "\n",
    "Let’s use our model to process more transactions that have gone through our systems. There are three numpy arrays pre-loaded in the workspace with information on new sample transactions under “New transaction data”"
   ]
  },
  {
   "cell_type": "code",
   "execution_count": 19,
   "metadata": {},
   "outputs": [
    {
     "name": "stdout",
     "output_type": "stream",
     "text": [
      "[[1.2345678e+05 0.0000000e+00 1.0000000e+00 5.4670100e+04]\n",
      " [9.8765430e+04 1.0000000e+00 0.0000000e+00 8.5247500e+03]\n",
      " [5.4367831e+05 1.0000000e+00 0.0000000e+00 5.1002550e+05]\n",
      " [4.5678980e+05 1.0000000e+00 1.0000000e+00 6.5870100e+04]]\n"
     ]
    }
   ],
   "source": [
    "# New transaction data\n",
    "transaction1 = np.array([123456.78, 0.0, 1.0, 54670.1])\n",
    "transaction2 = np.array([98765.43, 1.0, 0.0, 8524.75])\n",
    "transaction3 = np.array([543678.31, 1.0, 0.0, 510025.5])\n",
    "\n",
    "# Create a new transaction\n",
    "your_transaction = np.array([456789.80, 1.0, 1.0, 65870.1])\n",
    "\n",
    "# Combine the new transactions and your_transaction\n",
    "# into a single numpy array called sample_transactions.\n",
    "\n",
    "# Combine new transactions into a single array\n",
    "sample_transactions = np.stack((transaction1, transaction2, transaction3, your_transaction))\n",
    "print(sample_transactions)"
   ]
  },
  {
   "cell_type": "markdown",
   "metadata": {},
   "source": [
    "Since our Logistic Regression model was trained on scaled feature data, we must also scale the feature data we are making predictions on. Using the StandardScaler object created earlier, apply its .transform() method to sample_transactions and save the result to sample_transactions."
   ]
  },
  {
   "cell_type": "code",
   "execution_count": 20,
   "metadata": {},
   "outputs": [
    {
     "name": "stderr",
     "output_type": "stream",
     "text": [
      "c:\\Users\\tarza\\anaconda3\\Lib\\site-packages\\sklearn\\base.py:464: UserWarning: X does not have valid feature names, but StandardScaler was fitted with feature names\n",
      "  warnings.warn(\n"
     ]
    }
   ],
   "source": [
    "# Normalize the new transactions\n",
    "sample_transactions = scaler.transform(sample_transactions)"
   ]
  },
  {
   "cell_type": "markdown",
   "metadata": {},
   "source": [
    "Which transactions are fraudulent? Use your model’s .predict() method on sample_transactions and print the result to find out.\n",
    "\n",
    "Want to see the probabilities that led to these predictions? Call your model’s .predict_proba() method on sample_transactions and print the result.\n",
    "\n",
    "The 1st column is the probability of a transaction not being fraudulent, and the 2nd column is the probability of a transaction being fraudulent (which was calculated by our model to make the final classification decision)."
   ]
  },
  {
   "cell_type": "code",
   "execution_count": 21,
   "metadata": {},
   "outputs": [
    {
     "name": "stdout",
     "output_type": "stream",
     "text": [
      "sample predictions: [0 0 0 0]\n",
      "probabilites of sample predictions: [[6.15335752e-01 3.84664248e-01]\n",
      " [9.99150394e-01 8.49605918e-04]\n",
      " [9.98037781e-01 1.96221927e-03]\n",
      " [6.49779167e-01 3.50220833e-01]]\n"
     ]
    }
   ],
   "source": [
    "# Predict fraud on the new transactions\n",
    "sample_predictions = model.predict(sample_transactions)\n",
    "print(f\"sample predictions: {sample_predictions}\")\n",
    "# Show probabilities on the new transactions\n",
    "sample_predictions_proba = model.predict_proba(sample_transactions)\n",
    "print(f\"probabilites of sample predictions: {sample_predictions_proba}\")"
   ]
  }
 ],
 "metadata": {
  "kernelspec": {
   "display_name": "base",
   "language": "python",
   "name": "python3"
  },
  "language_info": {
   "codemirror_mode": {
    "name": "ipython",
    "version": 3
   },
   "file_extension": ".py",
   "mimetype": "text/x-python",
   "name": "python",
   "nbconvert_exporter": "python",
   "pygments_lexer": "ipython3",
   "version": "3.11.4"
  }
 },
 "nbformat": 4,
 "nbformat_minor": 2
}
