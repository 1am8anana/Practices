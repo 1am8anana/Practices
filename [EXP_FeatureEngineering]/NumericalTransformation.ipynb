{
 "cells": [
  {
   "cell_type": "markdown",
   "metadata": {},
   "source": [
    "# Numerical Transformation Introduction\n",
    "\n",
    "This this process helps our model better compare features and, most importantly, improve our model’s accuracy and interpretability. That sounds like some good reasons to put the time and effort into numerical transformations if I do say so myself.\n",
    "\n",
    "I’ll focus on the numerical transformations like:\n",
    "\n",
    "* Centering\n",
    "* Standard Scaler\n",
    "* Min and Max Scaler\n",
    "* Binning\n",
    "* Log transformations"
   ]
  },
  {
   "cell_type": "code",
   "execution_count": 1,
   "metadata": {},
   "outputs": [
    {
     "name": "stdout",
     "output_type": "stream",
     "text": [
      "<class 'pandas.core.frame.DataFrame'>\n",
      "RangeIndex: 17000 entries, 0 to 16999\n",
      "Data columns (total 6 columns):\n",
      " #   Column            Non-Null Count  Dtype  \n",
      "---  ------            --------------  -----  \n",
      " 0   Unnamed: 0        17000 non-null  int64  \n",
      " 1   gender            14825 non-null  object \n",
      " 2   age               17000 non-null  int64  \n",
      " 3   id                17000 non-null  object \n",
      " 4   became_member_on  17000 non-null  int64  \n",
      " 5   income            14825 non-null  float64\n",
      "dtypes: float64(1), int64(3), object(2)\n",
      "memory usage: 797.0+ KB\n"
     ]
    }
   ],
   "source": [
    "import pandas as pd\n",
    "\n",
    "data = pd.read_csv(\"profile.csv\")\n",
    "\n",
    "data.info()"
   ]
  },
  {
   "cell_type": "markdown",
   "metadata": {},
   "source": [
    "-> Cenring data\n",
    "\n",
    "This process helps us understand how far above or below each of our data points is from the mean."
   ]
  },
  {
   "cell_type": "code",
   "execution_count": 2,
   "metadata": {},
   "outputs": [
    {
     "data": {
      "image/png": "[encoded data removed]",
      "text/plain": [
       "<Figure size 640x480 with 1 Axes>"
      ]
     },
     "metadata": {},
     "output_type": "display_data"
    }
   ],
   "source": [
    "# import lib\n",
    "import pandas as pd\n",
    "import numpy as np\n",
    "import matplotlib.pyplot as plt\n",
    "\n",
    "# import csv file\n",
    "data = pd.read_csv(\"profile.csv\")\n",
    "\n",
    "# get min & max values from age column\n",
    "ages = data[\"age\"]\n",
    "min_age = np.min(ages)\n",
    "max_age = np.max(ages)\n",
    "\n",
    "# get mean ages\n",
    "mean_age = np.mean(ages)\n",
    "\n",
    "# center data\n",
    "centered_age = ages - mean_age\n",
    "\n",
    "# plot histogram\n",
    "plt.hist(centered_age, color = \"green\")\n",
    "plt.title(\"Center ages\")\n",
    "plt.xlabel(\"Distance from mean\")\n",
    "plt.ylabel(\"Counts\")\n",
    "plt.show()"
   ]
  },
  {
   "cell_type": "markdown",
   "metadata": {},
   "source": [
    "-> Standardizing \n",
    "\n",
    "Standardization (also known as Z-Score normalization) is when center data, then divide it by the standard deviation. Once i do that, entire data set will have a mean of zero and a standard deviation of one. This allows all of features to be on the same scale.\n",
    "\n",
    "I’ll definitely want to standardize data in the following situations:\n",
    "\n",
    "* Before Principal Component Analysis\n",
    "* Before using any clustering or distance based algorithm (think KMeans or DBSCAN)\n",
    "* Before KNN\n",
    "* Before performing regularization methods like LASSO and Ridge"
   ]
  },
  {
   "cell_type": "code",
   "execution_count": 12,
   "metadata": {},
   "outputs": [
    {
     "name": "stdout",
     "output_type": "stream",
     "text": [
      "<class 'pandas.core.series.Series'>\n",
      "mean of age after st: 9.221381828063065e-17\n",
      "std of age after std: 0.9999999999999603\n"
     ]
    }
   ],
   "source": [
    "# import lib\n",
    "import pandas as pd\n",
    "import numpy as np\n",
    "\n",
    "# read csv file & get columns age\n",
    "data = pd.read_csv(\"profile.csv\")\n",
    "ages = data[\"age\"]\n",
    "\n",
    "# find the mean of ages\n",
    "mean_age = np.mean(ages)\n",
    "\n",
    "# find the standard deviation of ages\n",
    "std_dev_age = np.std(ages)\n",
    "\n",
    "# standardize ages\n",
    "age_standardized = (ages - mean_age) / std_dev_age\n",
    "\n",
    "# show type of age of ter standardized\n",
    "print(type(age_standardized))\n",
    "# show the mean & standard deviation of ages after standardized\n",
    "print(\"mean of age after st:\", np.mean(age_standardized))\n",
    "print(\"std of age after std:\", np.std(age_standardized))"
   ]
  },
  {
   "cell_type": "markdown",
   "metadata": {},
   "source": [
    "-> Standardizing (with Sklearn)"
   ]
  },
  {
   "cell_type": "code",
   "execution_count": 2,
   "metadata": {},
   "outputs": [
    {
     "name": "stdout",
     "output_type": "stream",
     "text": [
      "mean of age after scaled: 1.1723955140041654e-16\n",
      "std of age after scaled: 1.0\n"
     ]
    }
   ],
   "source": [
    "# import lib\n",
    "import pandas as pd\n",
    "import numpy as np\n",
    "from sklearn.preprocessing import StandardScaler\n",
    "\n",
    "# read csv file\n",
    "data = pd.read_csv(\"profile.csv\")\n",
    "ages = data[\"age\"]\n",
    "\n",
    "# instantiate StandardScaler\n",
    "scaler = StandardScaler()\n",
    "\n",
    "# reshape feature\n",
    "reshaped_ages = np.array(ages).reshape(-1, 1)\n",
    "\n",
    "# fit transform(start scaler data)\n",
    "scaled_ages = scaler.fit_transform(reshaped_ages)\n",
    "\n",
    "# show mean & standard deviation\n",
    "print(\"mean of age after scaled:\", np.mean(scaled_ages))\n",
    "print(\"std of age after scaled:\", np.std(scaled_ages))"
   ]
  },
  {
   "cell_type": "markdown",
   "metadata": {},
   "source": [
    "-> Min-Max Normalization\n",
    "\n",
    "find the minimum and maximum data point in entire data set and set each of those to 0 and 1, respectively. Then the rest of the data points will transform to a number between 0 and 1.\n",
    "\n",
    "this transformation does not work well with data that has extreme outliers. You will want to perform a min-max normalization if the range between your min and max point is not too drastic."
   ]
  },
  {
   "cell_type": "code",
   "execution_count": 7,
   "metadata": {},
   "outputs": [
    {
     "data": {
      "text/plain": [
       "0         NaN\n",
       "1    0.911111\n",
       "2         NaN\n",
       "3    0.777778\n",
       "4         NaN\n",
       "Name: income, dtype: float64"
      ]
     },
     "execution_count": 7,
     "metadata": {},
     "output_type": "execute_result"
    }
   ],
   "source": [
    "# import lib\n",
    "import pandas as pd\n",
    "import numpy as np\n",
    "\n",
    "# read csv file & get column age\n",
    "data = pd.read_csv(\"profile.csv\")\n",
    "income = data[\"income\"]\n",
    "\n",
    "# find min income & max income \n",
    "min_income = np.min(income)\n",
    "max_income = np.max(income)\n",
    "\n",
    "# find the differnce(range) between max and min\n",
    "range_income = max_income - min_income\n",
    "\n",
    "# Normalize income column\n",
    "normalized_income = (income - min_income) / range_income\n",
    "\n",
    "# show result after normalized\n",
    "normalized_income.head(5)"
   ]
  },
  {
   "cell_type": "markdown",
   "metadata": {},
   "source": [
    "-> Min-Max Normalization (with Sklearn)"
   ]
  },
  {
   "cell_type": "code",
   "execution_count": 1,
   "metadata": {},
   "outputs": [
    {
     "name": "stdout",
     "output_type": "stream",
     "text": [
      "0.0 1.0\n"
     ]
    }
   ],
   "source": [
    "# import lib\n",
    "import pandas as pd\n",
    "import numpy as np\n",
    "from sklearn.preprocessing import MinMaxScaler\n",
    "\n",
    "# read csv file\n",
    "data = pd.read_csv(\"profile.csv\")\n",
    "ages = data[\"age\"]\n",
    "\n",
    "# reshaped the array\n",
    "reshaped_age = np.array(ages).reshape(-1, 1)\n",
    "\n",
    "# instantiate MinMaxSaler\n",
    "mmscaler = MinMaxScaler()\n",
    "\n",
    "# normalized data\n",
    "reshaped_scaled = mmscaler.fit_transform(reshaped_age)\n",
    "\n",
    "# show min & max from normalized array to recheck that 0 and 1\n",
    "print(np.min(reshaped_scaled), np.max(reshaped_scaled))"
   ]
  },
  {
   "cell_type": "markdown",
   "metadata": {},
   "source": [
    "-> Binning data\n",
    "\n",
    "Binning data is the process of taking numerical or categorical data and breaking it up into groups. bin data can help capture patterns in noisy data."
   ]
  },
  {
   "cell_type": "code",
   "execution_count": 5,
   "metadata": {},
   "outputs": [
    {
     "name": "stdout",
     "output_type": "stream",
     "text": [
      "18 118\n"
     ]
    },
    {
     "name": "stderr",
     "output_type": "stream",
     "text": [
      "C:\\Users\\tarza\\AppData\\Local\\Temp\\ipykernel_22704\\3515475174.py:17: SettingWithCopyWarning: \n",
      "A value is trying to be set on a copy of a slice from a DataFrame\n",
      "\n",
      "See the caveats in the documentation: https://pandas.pydata.org/pandas-docs/stable/user_guide/indexing.html#returning-a-view-versus-a-copy\n",
      "  ages[\"binned_ages\"] = pd.cut(ages, bins_age, right = False)\n"
     ]
    },
    {
     "name": "stdout",
     "output_type": "stream",
     "text": [
      "0    [50.0, 118.1)\n",
      "1    [50.0, 118.1)\n",
      "2    [50.0, 118.1)\n",
      "3    [50.0, 118.1)\n",
      "4    [50.0, 118.1)\n",
      "Name: age, dtype: category\n",
      "Categories (4, interval[float64, left]): [[0.0, 18.0) < [18.0, 30.0) < [30.0, 50.0) < [50.0, 118.1)]\n"
     ]
    },
    {
     "data": {
      "image/png": "[encoded data removed]",
      "text/plain": [
       "<Figure size 640x480 with 1 Axes>"
      ]
     },
     "metadata": {},
     "output_type": "display_data"
    }
   ],
   "source": [
    "# mport lib\n",
    "import pandas as pd\n",
    "import numpy as np\n",
    "import matplotlib.pyplot as plt\n",
    "\n",
    "# read csv file\n",
    "data = pd.read_csv(\"profile.csv\")\n",
    "ages = data[\"age\"]\n",
    "\n",
    "# show min & max of ages\n",
    "print(np.min(ages), np.max(ages))\n",
    "\n",
    "# set bins boundaries\n",
    "bins_age = [0, 18, 30, 50, 118.1]\n",
    "\n",
    "# creaet new column \"binned_ages\"\n",
    "ages[\"binned_ages\"] = pd.cut(ages, bins_age, right = False)\n",
    "\n",
    "# show some 5 columns\n",
    "print(ages[\"binned_ages\"].head(5))\n",
    "\n",
    "# plot bar graph(visualize)\n",
    "ages[\"binned_ages\"].value_counts().plot(kind = \"bar\")\n",
    "plt.title(\"Ages Distribution\")\n",
    "plt.xlabel(\"Ages\")\n",
    "plt.ylabel(\"Counts\")\n",
    "plt.show()"
   ]
  }
 ],
 "metadata": {
  "kernelspec": {
   "display_name": "base",
   "language": "python",
   "name": "python3"
  },
  "language_info": {
   "codemirror_mode": {
    "name": "ipython",
    "version": 3
   },
   "file_extension": ".py",
   "mimetype": "text/x-python",
   "name": "python",
   "nbconvert_exporter": "python",
   "pygments_lexer": "ipython3",
   "version": "3.11.4"
  }
 },
 "nbformat": 4,
 "nbformat_minor": 2
}
