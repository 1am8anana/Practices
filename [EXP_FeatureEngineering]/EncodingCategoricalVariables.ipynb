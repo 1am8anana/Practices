{
 "cells": [
  {
   "cell_type": "markdown",
   "metadata": {},
   "source": [
    "# Encoding Categorical Variables"
   ]
  },
  {
   "cell_type": "code",
   "execution_count": 71,
   "metadata": {},
   "outputs": [
    {
     "name": "stdout",
     "output_type": "stream",
     "text": [
      "enrollee_id                 int64\n",
      "city                       object\n",
      "city_development_index    float64\n",
      "gender                     object\n",
      "relevent_experience        object\n",
      "enrolled_university        object\n",
      "education_level            object\n",
      "major_discipline           object\n",
      "experience                 object\n",
      "company_size               object\n",
      "company_type               object\n",
      "last_new_job               object\n",
      "training_hours              int64\n",
      "dtype: object\n"
     ]
    }
   ],
   "source": [
    "# import lib\n",
    "import pandas as pd\n",
    "\n",
    "# read csv file\n",
    "data = pd.read_csv(\"aug_test.csv\")\n",
    "\n",
    "# show variable types\n",
    "print(data.dtypes)"
   ]
  },
  {
   "cell_type": "markdown",
   "metadata": {},
   "source": [
    "output features that are dtype = object and that tells us those features could be text or a mix of text and numerical values.\n",
    "\n",
    "The reason to spend time into this level of encoding is that there are many machine learning models that cannot handle text and will only work with numbers. Dataset must be encoded into numbers before begin to train, test, or evaluate a model."
   ]
  },
  {
   "cell_type": "markdown",
   "metadata": {},
   "source": [
    "-> Ordinal Encoding"
   ]
  },
  {
   "cell_type": "code",
   "execution_count": 72,
   "metadata": {},
   "outputs": [
    {
     "name": "stdout",
     "output_type": "stream",
     "text": [
      "Graduate          1269\n",
      "Masters            496\n",
      "High School        222\n",
      "Phd                 54\n",
      "Primary School      36\n",
      "Name: education_level, dtype: int64\n"
     ]
    }
   ],
   "source": [
    "print(data[\"education_level\"].value_counts())"
   ]
  },
  {
   "cell_type": "markdown",
   "metadata": {},
   "source": [
    "This is definitely an example of ordinal data: the education_level can easily be put in order of those in the “Phd” level to the education level in the “Primary School” level.\n",
    "\n",
    "The output printed the labels with the highest counts, assume the following hierarchy:\n",
    "* Phd\n",
    "* High School\n",
    "* Graduate\n",
    "* Masters\n",
    "* Primary School\n",
    "\n",
    "We need to convert these labels into numbers, and we can do this with two different approaches.\n",
    "\n",
    "First, we can do this by creating a dictionary where every label is the key and the new numeric number is the value. ‘Phd’ will get the highest score and ‘Primary School’ will be our lowest score. Then we will map each label from the education_level column to the numeric value and create a new column called education_rating."
   ]
  },
  {
   "cell_type": "code",
   "execution_count": 73,
   "metadata": {},
   "outputs": [
    {
     "name": "stdout",
     "output_type": "stream",
     "text": [
      "2.0    1269\n",
      "1.0     496\n",
      "3.0     222\n",
      "4.0      54\n",
      "0.0      36\n",
      "Name: education_rating, dtype: int64\n"
     ]
    }
   ],
   "source": [
    "# create dictionary of label: values in order\n",
    "rating_dict = {\"Phd\":4, \"High School\":3, \"Graduate\":2, \"Masters\":1, \"Primary School\":0}\n",
    "\n",
    "# create a new columns\n",
    "data[\"education_rating\"] = data[\"education_level\"].map(rating_dict)\n",
    "\n",
    "# show what diff\n",
    "print(data[\"education_rating\"].value_counts())"
   ]
  },
  {
   "cell_type": "markdown",
   "metadata": {},
   "source": [
    "The second approach we will show is how to utilize the <span style=\"color:green\">sklearn.preprocessing</span> library OrdinalEncoder. We follow a similar approach: we set our categories as a list, and then we will <span style=\"color:green\">.fit_transform</span> the values in our feature education_level. We need to make sure we adhere to the shape requirements of a 2-D array, so I’ll notice the method <span style=\"color:green\">.reshape(-1, 1)</span>.\n",
    "\n",
    "We’ll also note, this method will not work if feature has NaN values. Those need to be addressed prior to running <span style=\"color:green\">.fit_transform</span>"
   ]
  },
  {
   "cell_type": "code",
   "execution_count": 74,
   "metadata": {},
   "outputs": [
    {
     "name": "stdout",
     "output_type": "stream",
     "text": [
      "52\n",
      "0\n"
     ]
    }
   ],
   "source": [
    "# show nan values in education_level\n",
    "print(data[\"education_level\"].isna().sum())\n",
    "\n",
    "# drop it\n",
    "new_df = data.dropna()\n",
    "print(new_df[\"education_level\"].isna().sum())"
   ]
  },
  {
   "cell_type": "code",
   "execution_count": 75,
   "metadata": {},
   "outputs": [
    {
     "name": "stdout",
     "output_type": "stream",
     "text": [
      "2.0    697\n",
      "3.0    291\n",
      "0.0     31\n",
      "Name: education_rating_sklearn, dtype: int64\n"
     ]
    },
    {
     "name": "stderr",
     "output_type": "stream",
     "text": [
      "C:\\Users\\tarza\\AppData\\Local\\Temp\\ipykernel_17096\\698263277.py:11: SettingWithCopyWarning: \n",
      "A value is trying to be set on a copy of a slice from a DataFrame.\n",
      "Try using .loc[row_indexer,col_indexer] = value instead\n",
      "\n",
      "See the caveats in the documentation: https://pandas.pydata.org/pandas-docs/stable/user_guide/indexing.html#returning-a-view-versus-a-copy\n",
      "  new_df[\"education_rating_sklearn\"] = encoder.fit_transform(education_reshaped)\n"
     ]
    }
   ],
   "source": [
    "# import sklearn lib\n",
    "from sklearn.preprocessing import OrdinalEncoder\n",
    "\n",
    "# create encoder and set category order\n",
    "encoder = OrdinalEncoder(categories = [['Phd', 'High School', 'Graduate', 'Masters', 'Primary School']])\n",
    "\n",
    "# reshape feature\n",
    "education_reshaped = new_df[\"education_level\"].values.reshape(-1, 1)\n",
    "\n",
    "# create new variable with assigned (values)numbers\n",
    "new_df[\"education_rating_sklearn\"] = encoder.fit_transform(education_reshaped)\n",
    "\n",
    "# show what results\n",
    "print(new_df[\"education_rating_sklearn\"].value_counts())"
   ]
  },
  {
   "cell_type": "markdown",
   "metadata": {},
   "source": [
    "-> Label Encoding"
   ]
  },
  {
   "cell_type": "markdown",
   "metadata": {},
   "source": [
    "Now, to talk about nominal data, and we have to approach this type of data differently than what we did with ordinal data. Our city feature has a lot of different labels, but here are the top five cities that appear in data frame."
   ]
  },
  {
   "cell_type": "code",
   "execution_count": 76,
   "metadata": {},
   "outputs": [
    {
     "name": "stdout",
     "output_type": "stream",
     "text": [
      "108\n",
      "city_103    473\n",
      "city_21     318\n",
      "city_16     168\n",
      "city_114    155\n",
      "city_160    113\n",
      "Name: city, dtype: int64\n"
     ]
    }
   ],
   "source": [
    "print(data[\"city\"].nunique())\n",
    "print(data['city'].value_counts()[:5])"
   ]
  },
  {
   "cell_type": "markdown",
   "metadata": {},
   "source": [
    "to prepare this feature, we still need to convert our text to numbers, so let’s do just that. We will demonstrate two different approaches, with the first one showing how to convert the feature from an object type to a categories type."
   ]
  },
  {
   "cell_type": "code",
   "execution_count": 77,
   "metadata": {},
   "outputs": [
    {
     "name": "stdout",
     "output_type": "stream",
     "text": [
      "5     473\n",
      "55    318\n",
      "41    168\n",
      "11    155\n",
      "42    113\n",
      "Name: city_codes, dtype: int64\n"
     ]
    }
   ],
   "source": [
    "# convert feature to category type\n",
    "data[\"city_codes\"] = data[\"city\"].astype('category')\n",
    "\n",
    "# save new version of category codes\n",
    "data[\"city_codes\"] = data[\"city_codes\"].cat.codes\n",
    "\n",
    "# show to see transformation\n",
    "print(data[\"city_codes\"].value_counts()[:5])"
   ]
  },
  {
   "cell_type": "markdown",
   "metadata": {},
   "source": [
    "one more way we can transform this feature is by using <span style=\"color:green\">.sklearn.preprocessing</span> and the LabelEncoder library. This method will not work if your feature has NaN values. Those need to be addressed prior to running <span style=\"color:green\">.fit_transform</span>."
   ]
  },
  {
   "cell_type": "code",
   "execution_count": 78,
   "metadata": {},
   "outputs": [
    {
     "name": "stdout",
     "output_type": "stream",
     "text": [
      "5     473\n",
      "55    318\n",
      "41    168\n",
      "11    155\n",
      "42    113\n",
      "Name: city_codes_sklearn, dtype: int64\n"
     ]
    }
   ],
   "source": [
    "# import sklearn lib\n",
    "from sklearn.preprocessing import LabelEncoder\n",
    "\n",
    "# instantiate encoder\n",
    "encoder = LabelEncoder()\n",
    "\n",
    "# create new varable with assigned (values)numbers\n",
    "data[\"city_codes_sklearn\"] = encoder.fit_transform(data[\"city\"])\n",
    "\n",
    "# show transformation\n",
    "print(data[\"city_codes_sklearn\"].value_counts()[:5])"
   ]
  }
 ],
 "metadata": {
  "kernelspec": {
   "display_name": "base",
   "language": "python",
   "name": "python3"
  },
  "language_info": {
   "codemirror_mode": {
    "name": "ipython",
    "version": 3
   },
   "file_extension": ".py",
   "mimetype": "text/x-python",
   "name": "python",
   "nbconvert_exporter": "python",
   "pygments_lexer": "ipython3",
   "version": "3.11.4"
  }
 },
 "nbformat": 4,
 "nbformat_minor": 2
}
